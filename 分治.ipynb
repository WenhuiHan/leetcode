{
 "cells": [
  {
   "attachments": {},
   "cell_type": "markdown",
   "metadata": {},
   "source": [
    "## 主要思想\n",
    "MapReduce的本质就是分治算法。分治算法的主要思想是分-治-合。\n",
    "* 分：将问题递归地分成几个相互独立的、性质相同的子问题，当子问题满足边界条件时，递归停止；\n",
    "* 治：逐个解决子问题；\n",
    "* 合：将子问题的结果层层合并得到问题的答案。\n",
    "\n",
    "## 适用情况\n",
    "* 原问题的计算复杂度随着问题规模增加而增加；\n",
    "* 原问题可分解为子问题；\n",
    "* 子问题与原问题性质，相互独立，彼此间不存在公共的子子问题；\n",
    "* 子问题的解可合并为原问题的解;\n",
    "* 子问题合并的代价不能太大，否则起不到降低时间复杂度的效果。\n",
    "\n",
    "## 伪代码"
   ]
  },
  {
   "cell_type": "code",
   "execution_count": 39,
   "metadata": {},
   "outputs": [],
   "source": [
    "def divide_conquer(problem, paraml, param2,):\n",
    "    # 不断切分的终止条件\n",
    "    if problem is None:\n",
    "        print_result\n",
    "        return\n",
    "    # 准备数据\n",
    "    data=prepare_data(problem)\n",
    "    # 将大问题拆分为小问题\n",
    "    subproblems=split_problem(problem, data)\n",
    "    # 处理小问题，得到子结果\n",
    "    subresult1=self.divide_conquer(subproblems[0],p1,)\n",
    "    subresult2=self.divide_conquer(subproblems[1],p1,)\n",
    "    subresult3=self.divide_conquer(subproblems[2],p1,)\n",
    "    # 对子结果进行合并 得到最终结果\n",
    "    result=process_result(subresult1, subresult2, subresult3,)"
   ]
  },
  {
   "cell_type": "markdown",
   "metadata": {},
   "source": [
    "## 例子：分治在排序中的应用\n",
    "相关概念：\n",
    "* ***有序度***：一组数据的有序程度\n",
    "* ***逆序度***：一组数据的无序程度\n",
    "\\\n",
    "\n",
    "比如我们期望数据从小到大排列，`n`个完全有序的数据的有序度即其中有序对的个数`n(n-1)/2`，逆序对为`0`；而倒序排列的数据相反。\n",
    "\\\n",
    "求逆序对个数的方法：\n",
    "1. 对序列中的每个元素，计算小于它的元素的个数，对个数进行求和，该方法因为需要进行两层过滤，计算复杂度为$O(n^2)$;\n",
    "2. 分治：将数组分成前后两半$A_1$和$A_2$，分别计算$A_1$的逆序对个数$K_1$，$A_2$的逆序对个数$K_2$，以及$A_1$和$A_2$之间的逆序对个数$K_3$，数组A的逆序对个数为$K=K_1+K_2+K_3$。其中$A_1$和$A_2$间逆序对的个数需要用到归并排序算法。\n",
    "\n",
    "待补充归并排序！！！！！\n",
    "## 算法应用\n",
    "### Leetcode 169. 多数元素\n",
    "##### 题目描述\n",
    "给定一个大小为 n 的数组，找到其中的众数。众数是指在数组中出现次数大于 [n/2] 的元素。 你可以假设数组是非空的，并且给定的数组总是存在众数。\n",
    "\n",
    "```\n",
    "# 示例1\n",
    "输入: [3,2,3]\n",
    "输出:3\n",
    "\n",
    "# 示例2\n",
    "输入: [2,2,1,1,1,2,2]\n",
    "输出:2\n",
    "```\n",
    "##### 解题思路\n",
    "1. 切分的终止条件：数组元素个数为1\n",
    "2. 分：将数组分为左右大小相同的两个\n",
    "3. 治+合:\\\n",
    "长度为1的数组的众数为本身，返回；\n",
    "如果左右数组众数相同，则合数组的众数即该众数；\n",
    "如果左右数组的众数不同，对比两个众数在该区间出现的次数决定哪个是众数。"
   ]
  },
  {
   "cell_type": "code",
   "execution_count": 40,
   "metadata": {},
   "outputs": [],
   "source": [
    "class Solution:\n",
    "    def majorityElement(self, nums):\n",
    "        if not nums:\n",
    "            print('haha')\n",
    "            return None\n",
    "        if len(nums) == 1:\n",
    "            return nums[0]\n",
    "        \n",
    "        left = self.majorityElement(nums[0:len(nums)//2])\n",
    "        right = self.majorityElement(nums[len(nums)//2:])\n",
    "\n",
    "        if left == right:\n",
    "            return left\n",
    "        elif nums.count(left) > nums.count(right):\n",
    "            return left\n",
    "        else:\n",
    "            return right"
   ]
  },
  {
   "cell_type": "code",
   "execution_count": 41,
   "metadata": {},
   "outputs": [
    {
     "data": {
      "text/plain": [
       "2"
      ]
     },
     "execution_count": 41,
     "metadata": {},
     "output_type": "execute_result"
    }
   ],
   "source": [
    "c = Solution()\n",
    "c.majorityElement([2,2,1,1,1,2,2])"
   ]
  },
  {
   "cell_type": "markdown",
   "metadata": {},
   "source": [
    "### Leetcode 53. 最大子序和\n",
    "##### 题目描述\n",
    "给定一个整数数组`nums` ，找到一个具有最大和的连续子数组(子数组最少包含一个元素)，返回其最大和。\n",
    "```\n",
    "# 示例\n",
    "输入: [-2,1,-3,4,-1,2,1,-5,4]\n",
    "输出: 6\n",
    "解释: 连续子数组 [4,-1,2,1] 的和最大为6。\n",
    "```\n",
    "##### 解题思路\n",
    "1. 切分的终止条件：数组元素个数为1\n",
    "2. 分：将数组分为左右大小相同的两个\n",
    "3. 治+合:\\\n",
    "对于左/右区间，分别计算从右到左/从左到右的最大子序和（必须包含规定方向的起始元素），最终比较两区间各自的最大子序和，和以上规定方向的两最大子序和的和，返回较大值。"
   ]
  },
  {
   "cell_type": "code",
   "execution_count": 42,
   "metadata": {},
   "outputs": [],
   "source": [
    "class Solution:\n",
    "    def maxSubArray(self, nums):\n",
    "        n = len(nums)\n",
    "        if n == 1:\n",
    "            return nums[0]\n",
    "\n",
    "        left =  self.maxSubArray(nums[:n//2])\n",
    "        right = self.maxSubArray(nums[n//2:])\n",
    "\n",
    "        max_l = nums[n//2-1]\n",
    "        tmp = 0\n",
    "        for i in range(n//2-1, -1, -1):\n",
    "            tmp += nums[i]\n",
    "            max_l = max(max_l, tmp)\n",
    "\n",
    "        max_r = nums[n//2]\n",
    "        tmp = 0\n",
    "        for i in range(n//2, n):\n",
    "            tmp += nums[i]\n",
    "            max_r = max(max_r, tmp)\n",
    "    \n",
    "        return max(left, right, max_l+max_r)"
   ]
  },
  {
   "cell_type": "code",
   "execution_count": 43,
   "metadata": {},
   "outputs": [
    {
     "data": {
      "text/plain": [
       "6"
      ]
     },
     "execution_count": 43,
     "metadata": {},
     "output_type": "execute_result"
    }
   ],
   "source": [
    "nums = [-2,1,-3,4,-1,2,1,-5,4]\n",
    "c = Solution()\n",
    "c.maxSubArray(nums)"
   ]
  },
  {
   "cell_type": "markdown",
   "metadata": {},
   "source": [
    "### Leetcode 50. Pow(x, n)\n",
    "##### 题目描述\n",
    "实现`pow(x, n)` ，即计算`x`的`n`次幂函数。\n",
    "```\n",
    "# 示例\n",
    "输入: 2.00000, 10\n",
    "输出: 1024.00000\n",
    "\n",
    "输入: 2.10000, 3\n",
    "输出: 9.26100\n",
    "\n",
    "输入: 2.00000, -2\n",
    "输出: 0.25000\n",
    "```\n",
    "* -100.0 < x < 100.0\n",
    "* n 是 32 位有符号整数，其数值范围是$[-2^{31},2^{31}-1]$。\n",
    "##### 解题思路\n",
    "1. 切分的终止条件：对`n`不断除以2，并更新`n`，直到为0，终止切分\n",
    "2. 分：对`n`不断除以2\n",
    "3. 治+合:\\\n",
    "x 与自身相乘更新x;\n",
    "如果 n%2 ==1,将 p 乘以 x 之后赋值给 p (初始值为1)，返回 p 最终返回 p"
   ]
  },
  {
   "cell_type": "code",
   "execution_count": 44,
   "metadata": {},
   "outputs": [],
   "source": [
    "class Solution:\n",
    "    def myPow(self, x: float, n: int) -> float:\n",
    "        if n < 0:\n",
    "            x = 1/x\n",
    "            n = -n\n",
    "\n",
    "        if n == 0:\n",
    "            return 1\n",
    "\n",
    "        if n%2 == 1:\n",
    "            p = x * self.myPow(x, n-1)\n",
    "            return p\n",
    "\n",
    "        return self.myPow(x*x, n/2)"
   ]
  },
  {
   "cell_type": "code",
   "execution_count": 45,
   "metadata": {},
   "outputs": [
    {
     "data": {
      "text/plain": [
       "1024.0"
      ]
     },
     "execution_count": 45,
     "metadata": {},
     "output_type": "execute_result"
    }
   ],
   "source": [
    "c = Solution()\n",
    "c.myPow(2.00000, 10)"
   ]
  },
  {
   "cell_type": "code",
   "execution_count": null,
   "metadata": {},
   "outputs": [],
   "source": []
  }
 ],
 "metadata": {
  "kernelspec": {
   "display_name": "Python 3",
   "language": "python",
   "name": "python3"
  },
  "language_info": {
   "codemirror_mode": {
    "name": "ipython",
    "version": 3
   },
   "file_extension": ".py",
   "mimetype": "text/x-python",
   "name": "python",
   "nbconvert_exporter": "python",
   "pygments_lexer": "ipython3",
   "version": "3.7.4"
  }
 },
 "nbformat": 4,
 "nbformat_minor": 2
}
